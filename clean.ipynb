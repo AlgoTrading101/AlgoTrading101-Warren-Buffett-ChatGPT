{
 "cells": [
  {
   "cell_type": "markdown",
   "metadata": {},
   "source": [
    "## Clean up the transcripts\n",
    "\n",
    "Use this only if you notice issues where a lot of sentences are cut mid-way. This script can also cause troubles for transcripts that don't have a lot of these issues."
   ]
  },
  {
   "cell_type": "code",
   "execution_count": null,
   "metadata": {},
   "outputs": [],
   "source": [
    "import pandas as pd\n",
    "import re"
   ]
  },
  {
   "cell_type": "code",
   "execution_count": null,
   "metadata": {},
   "outputs": [],
   "source": [
    "df = pd.read_csv(\"output/cut_4.csv\")"
   ]
  },
  {
   "cell_type": "code",
   "execution_count": null,
   "metadata": {},
   "outputs": [],
   "source": [
    "def split_into_sentences(text: str):\n",
    "    sentence_enders = re.compile(\"[.!?]\")\n",
    "    sentence_list = sentence_enders.split(text)\n",
    "    return [sentence.strip() for sentence in sentence_list if sentence.strip() != \"\"]\n",
    "\n",
    "\n",
    "def correct_df(df: pd.DataFrame) -> pd.DataFrame:\n",
    "    i = 0\n",
    "    while i < len(df) - 1:\n",
    "        current_text = df.iloc[i, df.columns.get_loc(\"Text\")].strip()\n",
    "        next_text = df.iloc[i + 1, df.columns.get_loc(\"Text\")].strip()\n",
    "        current_speaker = df.iloc[i, df.columns.get_loc(\"Speaker\")]\n",
    "        next_speaker = df.iloc[i + 1, df.columns.get_loc(\"Speaker\")]\n",
    "\n",
    "        # Check conditions\n",
    "        merge_condition = (\n",
    "            current_text[-1] in \", \"\n",
    "            or next_text[0].islower()\n",
    "            or next_text.split()[0].lower() == \"and\"\n",
    "            or next_text[0] == \"$\"\n",
    "            or next_text[0].isdigit()\n",
    "        )\n",
    "\n",
    "        # If only word is \"And\", push it to the next row\n",
    "        if next_text.strip().lower() == \"and\":\n",
    "            df.iloc[i + 1, df.columns.get_loc(\"Text\")] = current_text + \" \" + next_text\n",
    "            df.drop(df.index[i], inplace=True)\n",
    "            df.reset_index(drop=True, inplace=True)\n",
    "            continue\n",
    "\n",
    "        # If merge condition met and speakers are same, merge texts\n",
    "        if merge_condition:\n",
    "            # If next text is completely moved up, then change the speaker\n",
    "            if (\n",
    "                not re.search(r\"[.!?]$\", next_text)\n",
    "                or next_text.split()[0].lower() == \"and\"\n",
    "            ):\n",
    "                df.iloc[i, df.columns.get_loc(\"Speaker\")] = next_speaker\n",
    "            df.iloc[i, df.columns.get_loc(\"Text\")] += \" \" + next_text\n",
    "            df.drop(df.index[i + 1], inplace=True)\n",
    "            df.reset_index(drop=True, inplace=True)\n",
    "        else:\n",
    "            i += 1\n",
    "\n",
    "    return df\n",
    "\n",
    "\n",
    "def correct_speakers(df: pd.DataFrame) -> pd.DataFrame:\n",
    "    i = 1\n",
    "    while i < len(df) - 1:\n",
    "        current_speaker = df.loc[i, \"Speaker\"]\n",
    "        next_speaker = df.loc[i + 1, \"Speaker\"]\n",
    "\n",
    "        if current_speaker == next_speaker:\n",
    "            df.loc[i, \"Text\"] += \" \" + df.loc[i + 1, \"Text\"]\n",
    "            df.drop(i + 1, inplace=True)\n",
    "            df.reset_index(drop=True, inplace=True)\n",
    "        else:\n",
    "            i += 1\n",
    "\n",
    "    return df"
   ]
  },
  {
   "cell_type": "code",
   "execution_count": null,
   "metadata": {},
   "outputs": [],
   "source": [
    "df_corrected_text = correct_df(df)\n",
    "df_corrected_text.head()\n",
    "df_corrected_speakers = correct_speakers(df_corrected_text.copy())\n",
    "df_corrected_speakers.to_csv(\"part_4.csv\", index=False)"
   ]
  },
  {
   "cell_type": "markdown",
   "metadata": {},
   "source": [
    "## Prepare for finetuning"
   ]
  },
  {
   "cell_type": "code",
   "execution_count": null,
   "metadata": {},
   "outputs": [],
   "source": [
    "df = pd.read_csv(\"output/full_transcripts.csv\")\n",
    "df = df.dropna()\n",
    "df = df.reset_index(drop=True)\n",
    "\n",
    "prompt_response = {\"prompt\": [], \"completion\": []}\n",
    "\n",
    "for i in range(len(df)):\n",
    "    if df[\"Speaker\"][i] == \"BUFFETT\":\n",
    "        prompt = df[\"Text\"][i - 5 : i]\n",
    "        prompt = \" \".join(prompt)\n",
    "        response = df[\"Text\"][i]\n",
    "        prompt_response[\"prompt\"].append(prompt)\n",
    "        prompt_response[\"completion\"].append(response)\n",
    "\n",
    "\n",
    "df_clean = pd.DataFrame(prompt_response).shift(-2)\n",
    "df_clean = df_clean.dropna()\n",
    "df_clean"
   ]
  },
  {
   "cell_type": "code",
   "execution_count": null,
   "metadata": {},
   "outputs": [],
   "source": [
    "df_clean.to_csv(\"output/train.csv\")"
   ]
  }
 ],
 "metadata": {
  "kernelspec": {
   "display_name": "buffet",
   "language": "python",
   "name": "python3"
  },
  "language_info": {
   "codemirror_mode": {
    "name": "ipython",
    "version": 3
   },
   "file_extension": ".py",
   "mimetype": "text/x-python",
   "name": "python",
   "nbconvert_exporter": "python",
   "pygments_lexer": "ipython3",
   "version": "3.11.4"
  },
  "orig_nbformat": 4
 },
 "nbformat": 4,
 "nbformat_minor": 2
}
